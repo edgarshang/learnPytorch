{
 "cells": [
  {
   "cell_type": "markdown",
   "metadata": {},
   "source": [
    "# Pytorch深度神经网络及训练\n",
    "\n",
    "**Daitu：2505131775@qq.com**"
   ]
  },
  {
   "cell_type": "code",
   "execution_count": 1,
   "metadata": {
    "ExecuteTime": {
     "end_time": "2019-11-27T11:33:49.223815Z",
     "start_time": "2019-11-27T11:33:48.997836Z"
    }
   },
   "outputs": [],
   "source": [
    "%config InlineBackend.figure_format = 'retina'\n",
    "%matplotlib inline"
   ]
  },
  {
   "cell_type": "markdown",
   "metadata": {},
   "source": [
    "## 3.2 Pytorch中的优化器\n",
    "\n",
    "介绍优化器的常用使用方法"
   ]
  },
  {
   "cell_type": "code",
   "execution_count": 2,
   "metadata": {
    "ExecuteTime": {
     "end_time": "2019-11-27T11:33:51.498270Z",
     "start_time": "2019-11-27T11:33:51.333483Z"
    }
   },
   "outputs": [],
   "source": [
    "import torch\n",
    "import torch.nn as nn\n",
    "from torch.optim import Adam"
   ]
  },
  {
   "cell_type": "code",
   "execution_count": 3,
   "metadata": {
    "ExecuteTime": {
     "end_time": "2019-11-27T11:33:59.092559Z",
     "start_time": "2019-11-27T11:33:59.077228Z"
    }
   },
   "outputs": [
    {
     "name": "stdout",
     "output_type": "stream",
     "text": [
      "TestNet(\n",
      "  (hidden): Sequential(\n",
      "    (0): Linear(in_features=13, out_features=10, bias=True)\n",
      "    (1): ReLU()\n",
      "  )\n",
      "  (regression): Linear(in_features=10, out_features=1, bias=True)\n",
      ")\n"
     ]
    }
   ],
   "source": [
    "## 建立一个测试网络\n",
    "class TestNet(nn.Module):\n",
    "    def __init__(self):\n",
    "        super(TestNet,self).__init__()\n",
    "        ## 定义隐藏层\n",
    "        self.hidden = nn.Sequential(\n",
    "            nn.Linear(13,10),\n",
    "            nn.ReLU(),\n",
    "        )\n",
    "        ## 定义预测回归层\n",
    "        self.regression = nn.Linear(10,1)\n",
    "    ## 定义网络的向前传播路径   \n",
    "    def forward(self, x):\n",
    "        x = self.hidden(x)\n",
    "        output = self.regression(x)\n",
    "        ## 输出为output\n",
    "        return output\n",
    "        \n",
    "## 输出我们的网络结构\n",
    "testnet = TestNet()\n",
    "print(testnet)"
   ]
  },
  {
   "cell_type": "code",
   "execution_count": 4,
   "metadata": {
    "ExecuteTime": {
     "end_time": "2019-11-27T11:34:04.695141Z",
     "start_time": "2019-11-27T11:34:04.692254Z"
    }
   },
   "outputs": [],
   "source": [
    "## 使用方式1\n",
    "optimizer = Adam(testnet.parameters(),lr=0.001)  "
   ]
  },
  {
   "cell_type": "code",
   "execution_count": 5,
   "metadata": {
    "ExecuteTime": {
     "end_time": "2019-11-27T11:34:07.554311Z",
     "start_time": "2019-11-27T11:34:07.549043Z"
    }
   },
   "outputs": [],
   "source": [
    "## 使用方式2：为不同的层定义不同的学习率\n",
    "optimizer = Adam(\n",
    "    [{\"params\":testnet.hidden.parameters(),\"lr\":0.0001},\n",
    "    {\"params\":testnet.regression.parameters(),\"lr\": 0.01}],\n",
    "    lr=1e-2)\n",
    "\n",
    "## 这意味着testnet.hidden的参数将会使用0.0001的学习率，\n",
    "## testnet.regression的参数将会使用0.01的学习率，\n",
    "## 而且lr=1e-2将作用于其它没有特殊指定的所有参数。"
   ]
  },
  {
   "cell_type": "code",
   "execution_count": 6,
   "metadata": {
    "ExecuteTime": {
     "end_time": "2019-08-06T12:30:10.939272Z",
     "start_time": "2019-08-06T12:30:10.934172Z"
    }
   },
   "outputs": [],
   "source": [
    "# ## 注意该段程序并不能运行成功，作为示例使用\n",
    "# ## 对目标函数进行优化时通常的格式\n",
    "# for input, target in dataset:\n",
    "#     optimizer.zero_grad()        ## 梯度清零\n",
    "#     output = testnetst(input)    ## 计算预测值\n",
    "#     loss = loss_fn(output, target)## 计算损失\n",
    "#     loss.backward()               ## 损失后向传播\n",
    "#     optimizer.step()              # 更新网络参数"
   ]
  },
  {
   "cell_type": "markdown",
   "metadata": {},
   "source": [
    "## 3.5 参数初始化方法\n",
    "\n",
    "**针对一个层的权重初始化方法**\n",
    "\n",
    "**针对一个网络的权重初始化方法**"
   ]
  },
  {
   "cell_type": "code",
   "execution_count": 7,
   "metadata": {
    "ExecuteTime": {
     "end_time": "2019-11-27T11:34:28.703424Z",
     "start_time": "2019-11-27T11:34:28.686907Z"
    }
   },
   "outputs": [
    {
     "name": "stderr",
     "output_type": "stream",
     "text": [
      "C:\\Users\\edgar\\AppData\\Local\\Temp\\ipykernel_3096\\2447194885.py:5: UserWarning: nn.init.normal is now deprecated in favor of nn.init.normal_.\n",
      "  torch.nn.init.normal(conv1.weight,mean=0,std=1)\n"
     ]
    },
    {
     "data": {
      "text/plain": [
       "Parameter containing:\n",
       "tensor([[[[-1.3201e-01, -1.2544e-01,  3.4431e-01],\n",
       "          [-4.5191e-01, -8.8876e-01, -3.5265e-01],\n",
       "          [-1.3373e+00,  5.2231e-01, -1.1118e+00]],\n",
       "\n",
       "         [[-7.1707e-01,  1.0426e+00, -1.2510e+00],\n",
       "          [-5.1067e-01, -3.8429e-01, -4.8987e-01],\n",
       "          [ 5.3057e-01, -4.9287e-01, -2.6253e-01]],\n",
       "\n",
       "         [[-1.6102e-01, -8.3718e-01, -1.2945e+00],\n",
       "          [-2.6232e-01, -5.3525e-01,  1.3466e+00],\n",
       "          [-2.7361e+00,  1.9106e+00,  4.9242e-01]]],\n",
       "\n",
       "\n",
       "        [[[-6.9206e-01, -6.9444e-01, -2.1245e-01],\n",
       "          [ 2.3618e-01, -1.2438e+00, -1.2427e-01],\n",
       "          [ 3.9906e-01, -3.5954e-01,  4.5832e-01]],\n",
       "\n",
       "         [[-1.0828e+00, -6.0059e-01,  5.5490e-02],\n",
       "          [ 7.0821e-01, -8.7218e-01,  6.6645e-01],\n",
       "          [ 6.8104e-01,  4.5224e-01, -9.4021e-01]],\n",
       "\n",
       "         [[ 1.8076e-01, -5.5380e-01,  1.5044e+00],\n",
       "          [ 5.9933e-01,  2.2986e+00, -8.9508e-01],\n",
       "          [-2.7441e+00,  9.8023e-01,  1.8197e+00]]],\n",
       "\n",
       "\n",
       "        [[[ 1.4824e+00,  1.2561e-02,  6.7311e-01],\n",
       "          [-9.0216e-01, -1.9099e+00, -9.9948e-01],\n",
       "          [-1.0266e+00,  9.7394e-01, -1.8436e+00]],\n",
       "\n",
       "         [[-4.9945e-01, -1.4684e+00,  9.0037e-01],\n",
       "          [ 2.8968e-01, -1.0218e+00,  1.7111e+00],\n",
       "          [ 1.2434e+00, -7.9153e-01, -1.6888e-01]],\n",
       "\n",
       "         [[ 2.4425e-01,  9.6574e-01,  9.3885e-01],\n",
       "          [-1.2146e+00,  1.2419e+00, -3.0717e-01],\n",
       "          [-1.7668e-01, -7.3516e-01, -6.0506e-01]]],\n",
       "\n",
       "\n",
       "        [[[ 1.7867e-01, -1.5700e+00,  2.4380e-01],\n",
       "          [-1.0103e+00, -1.7391e-01, -4.8847e-01],\n",
       "          [-1.1682e+00,  1.1330e+00, -4.0459e-01]],\n",
       "\n",
       "         [[-5.9243e-01, -7.1029e-01, -4.4559e-01],\n",
       "          [ 1.6691e+00, -9.3139e-01, -1.7157e+00],\n",
       "          [ 4.1008e-01,  2.0925e-01,  4.8349e-02]],\n",
       "\n",
       "         [[-7.6681e-01,  7.2412e-01, -1.2377e+00],\n",
       "          [-1.1856e+00, -7.0514e-01, -4.5240e-01],\n",
       "          [-4.4076e-01,  6.1844e-02, -3.1202e+00]]],\n",
       "\n",
       "\n",
       "        [[[-1.0869e+00,  3.2535e-01, -2.9053e-01],\n",
       "          [-4.7135e-01, -4.1132e-01, -3.6100e-02],\n",
       "          [-7.5507e-01, -1.8064e-01,  1.1629e+00]],\n",
       "\n",
       "         [[-1.7649e-01,  8.5796e-01,  9.3743e-01],\n",
       "          [-9.3453e-02,  6.2582e-01, -2.3370e+00],\n",
       "          [-1.4250e-01,  6.5883e-01, -4.8914e-02]],\n",
       "\n",
       "         [[-3.2724e-01, -5.2539e-01,  7.4709e-01],\n",
       "          [-8.4045e-02,  4.8419e-01, -8.9608e-01],\n",
       "          [-1.4566e+00, -4.2843e-01, -3.5646e-01]]],\n",
       "\n",
       "\n",
       "        [[[-5.2180e-01,  2.6487e-01, -1.7611e+00],\n",
       "          [ 2.6259e-01,  2.2931e+00,  3.8342e-01],\n",
       "          [-1.4401e+00, -3.8535e-01, -7.2320e-01]],\n",
       "\n",
       "         [[ 7.5602e-01, -6.2367e-02, -6.8403e-01],\n",
       "          [ 7.2986e-01,  9.5912e-01, -2.5762e-01],\n",
       "          [-6.2992e-01,  1.7525e+00, -1.9696e+00]],\n",
       "\n",
       "         [[-1.1961e+00,  8.3721e-01,  4.5384e-01],\n",
       "          [-1.5393e-01,  3.5587e-01,  1.7190e+00],\n",
       "          [ 1.7597e+00, -6.1080e-01,  8.8297e-01]]],\n",
       "\n",
       "\n",
       "        [[[-1.2222e+00,  2.3510e-01, -3.1397e-01],\n",
       "          [ 6.8218e-01, -3.5663e-01,  1.4968e+00],\n",
       "          [-3.5170e-02,  1.0306e+00, -1.2798e+00]],\n",
       "\n",
       "         [[-2.6456e-01, -1.5359e-01,  8.1745e-01],\n",
       "          [-2.0178e-01,  1.4860e+00, -7.3049e-01],\n",
       "          [ 9.1435e-01, -1.2835e+00,  1.0610e+00]],\n",
       "\n",
       "         [[-3.0278e-01, -8.5393e-01,  1.2413e+00],\n",
       "          [ 8.4482e-01,  1.5967e+00,  6.0474e-01],\n",
       "          [ 5.0088e-01, -9.8299e-02,  3.4134e-01]]],\n",
       "\n",
       "\n",
       "        [[[ 1.1429e+00, -1.9101e+00,  5.5534e-01],\n",
       "          [-7.8860e-01,  8.3347e-01, -1.1505e+00],\n",
       "          [-5.9211e-01, -8.0210e-01, -1.2488e+00]],\n",
       "\n",
       "         [[-1.3335e+00,  6.3262e-02, -7.0006e-01],\n",
       "          [ 3.4864e-01, -7.1837e-02, -2.1241e-01],\n",
       "          [ 8.9150e-01,  3.2100e-01, -2.1058e-02]],\n",
       "\n",
       "         [[-6.6803e-01,  1.2470e+00,  7.5712e-02],\n",
       "          [ 1.8035e+00, -3.4622e-01, -2.1044e+00],\n",
       "          [-1.0979e+00,  6.1388e-01,  2.9857e-01]]],\n",
       "\n",
       "\n",
       "        [[[-2.0579e+00, -3.0253e-01, -1.0582e+00],\n",
       "          [ 1.4492e+00, -2.1002e+00,  2.1553e+00],\n",
       "          [ 6.4461e-01, -7.3026e-01,  1.3538e+00]],\n",
       "\n",
       "         [[ 7.8838e-01, -1.6192e+00,  5.6629e-01],\n",
       "          [-1.9250e-01,  8.2408e-01, -9.7152e-01],\n",
       "          [-3.6634e-01, -1.6588e-01, -1.9973e+00]],\n",
       "\n",
       "         [[ 4.0366e-01,  7.4843e-02,  7.6573e-01],\n",
       "          [-1.2022e+00, -1.8045e+00, -1.9539e-01],\n",
       "          [ 3.9656e-01,  2.2142e-01, -6.9264e-03]]],\n",
       "\n",
       "\n",
       "        [[[-1.1520e+00, -6.5285e-01, -6.8683e-01],\n",
       "          [ 1.9950e+00,  1.0235e-01,  7.1185e-02],\n",
       "          [ 8.9662e-02,  3.6016e-01, -2.5462e-01]],\n",
       "\n",
       "         [[ 8.4006e-01, -1.6416e-01, -1.8411e+00],\n",
       "          [ 9.8258e-02,  7.9477e-01,  2.3819e+00],\n",
       "          [-3.7064e-01, -7.9222e-01, -1.7453e+00]],\n",
       "\n",
       "         [[ 4.5324e-01,  8.6566e-01,  5.2169e-01],\n",
       "          [-3.3034e-02, -1.3126e+00, -9.2532e-01],\n",
       "          [-3.8545e-01,  6.7041e-01,  2.4739e+00]]],\n",
       "\n",
       "\n",
       "        [[[ 2.7441e-01, -3.4829e-02,  1.4602e+00],\n",
       "          [ 1.5539e+00, -1.5911e+00, -2.1023e-01],\n",
       "          [-6.9271e-01,  1.5213e-01, -1.8243e+00]],\n",
       "\n",
       "         [[ 7.4135e-01, -3.1397e-01, -1.9417e+00],\n",
       "          [-1.8543e+00,  2.7558e-01, -1.3123e+00],\n",
       "          [ 5.5698e-01,  6.9321e-02, -2.3945e+00]],\n",
       "\n",
       "         [[ 1.3368e-01, -1.0755e+00,  1.9913e+00],\n",
       "          [-1.4785e+00,  4.2972e-01, -1.4232e+00],\n",
       "          [ 1.9716e-01,  1.4511e-01, -4.4624e-01]]],\n",
       "\n",
       "\n",
       "        [[[ 7.9434e-01,  7.4588e-01,  3.8383e-01],\n",
       "          [-1.4568e+00, -3.2739e-01, -7.3157e-01],\n",
       "          [ 1.7134e+00,  1.5879e-01, -4.2923e-01]],\n",
       "\n",
       "         [[ 4.3937e-01, -1.3256e-01,  1.4451e-01],\n",
       "          [ 5.1729e-01,  8.1455e-01,  6.2702e-01],\n",
       "          [ 6.5133e-01, -2.1107e-01,  2.7395e-01]],\n",
       "\n",
       "         [[-1.1969e+00,  6.7234e-01, -1.5179e-01],\n",
       "          [-4.3509e-01,  1.2384e+00,  3.8384e-01],\n",
       "          [-1.7151e+00,  4.1471e-01,  8.3979e-01]]],\n",
       "\n",
       "\n",
       "        [[[ 1.0139e+00,  1.5684e+00, -2.8093e-03],\n",
       "          [ 5.3198e-01,  2.3008e-01, -1.7236e+00],\n",
       "          [ 7.5226e-01, -5.6694e-01, -2.3711e-01]],\n",
       "\n",
       "         [[ 9.2061e-01, -3.3571e-01,  5.5805e-01],\n",
       "          [ 4.6108e-01, -9.1255e-01, -6.7037e-01],\n",
       "          [-1.5016e+00, -9.6834e-01, -9.2297e-01]],\n",
       "\n",
       "         [[ 8.2724e-01, -1.2634e+00, -2.5667e-01],\n",
       "          [ 6.6530e-01,  3.4849e-01, -3.0517e-01],\n",
       "          [-1.5106e+00, -4.5061e-01,  6.9042e-01]]],\n",
       "\n",
       "\n",
       "        [[[ 2.4881e+00,  8.6716e-01,  1.0610e-01],\n",
       "          [ 1.1346e+00,  7.6687e-01,  4.3529e-01],\n",
       "          [-2.2496e-01, -2.1852e-01,  8.1207e-01]],\n",
       "\n",
       "         [[-6.8554e-02, -8.3586e-01, -4.6496e-01],\n",
       "          [-4.7118e-01,  1.9124e-01, -4.3537e-02],\n",
       "          [ 1.9339e-01,  1.6938e+00, -3.8302e-02]],\n",
       "\n",
       "         [[-1.0608e+00,  9.2034e-02,  1.1882e+00],\n",
       "          [-1.6184e-01, -7.1774e-01, -2.4473e+00],\n",
       "          [ 8.2349e-01, -4.7928e-01,  1.1607e+00]]],\n",
       "\n",
       "\n",
       "        [[[ 1.7413e+00, -1.6035e+00, -1.1644e+00],\n",
       "          [ 1.5679e+00, -2.0461e-01,  8.3659e-01],\n",
       "          [ 1.1845e+00, -1.5000e+00,  7.0517e-01]],\n",
       "\n",
       "         [[ 1.8130e-01,  4.3102e-01, -6.0953e-01],\n",
       "          [ 6.0070e-02, -6.1059e-02, -4.9694e-01],\n",
       "          [-6.8697e-01,  1.2904e+00, -6.2279e-01]],\n",
       "\n",
       "         [[-1.0124e+00,  1.5563e+00, -1.4842e+00],\n",
       "          [-2.3497e+00,  4.4950e-01, -5.7936e-01],\n",
       "          [ 4.6835e-01,  8.1213e-01, -5.8790e-01]]],\n",
       "\n",
       "\n",
       "        [[[ 9.3382e-01, -1.2646e+00,  8.5472e-01],\n",
       "          [ 2.8268e-01,  8.0591e-01, -6.7495e-01],\n",
       "          [-9.8716e-01,  4.4777e-01,  1.1651e-02]],\n",
       "\n",
       "         [[-1.0077e+00, -1.5290e+00, -2.0859e+00],\n",
       "          [-5.8400e-01, -4.4615e-01, -7.4883e-01],\n",
       "          [ 4.0012e-01,  1.1803e-01,  3.2844e-01]],\n",
       "\n",
       "         [[ 1.8744e-01,  5.5370e-01,  1.1827e-01],\n",
       "          [ 3.1079e-01, -2.2308e-01,  1.2937e+00],\n",
       "          [-1.8393e-01, -5.1315e-01,  1.0776e+00]]]], requires_grad=True)"
      ]
     },
     "execution_count": 7,
     "metadata": {},
     "output_type": "execute_result"
    }
   ],
   "source": [
    "## 针对一个层的权重初始化方法\n",
    "conv1 = torch.nn.Conv2d(3,16,3)\n",
    "## 使用标准正态分布分布初始化权重\n",
    "torch.manual_seed(12)  ## 随机数初始化种子\n",
    "torch.nn.init.normal(conv1.weight,mean=0,std=1)"
   ]
  },
  {
   "cell_type": "code",
   "execution_count": 8,
   "metadata": {
    "ExecuteTime": {
     "end_time": "2019-11-27T11:34:48.305997Z",
     "start_time": "2019-11-27T11:34:47.862025Z"
    }
   },
   "outputs": [
    {
     "data": {
      "image/png": "[encoded data removed]",
      "text/plain": [
       "<Figure size 576x432 with 1 Axes>"
      ]
     },
     "metadata": {
      "image/png": {
       "height": 357,
       "width": 480
      },
      "needs_background": "light"
     },
     "output_type": "display_data"
    }
   ],
   "source": [
    "## 使用直方图可视化conv1.weight的分布情况\n",
    "import matplotlib.pyplot as plt\n",
    "plt.figure(figsize=(8,6))\n",
    "plt.hist(conv1.weight.data.numpy().reshape((-1,1)),bins = 30)\n",
    "plt.show()"
   ]
  },
  {
   "cell_type": "code",
   "execution_count": 9,
   "metadata": {
    "ExecuteTime": {
     "end_time": "2019-11-27T11:35:10.368982Z",
     "start_time": "2019-11-27T11:35:10.362657Z"
    }
   },
   "outputs": [
    {
     "name": "stderr",
     "output_type": "stream",
     "text": [
      "C:\\Users\\edgar\\AppData\\Local\\Temp\\ipykernel_3096\\1729699341.py:2: UserWarning: nn.init.constant is now deprecated in favor of nn.init.constant_.\n",
      "  torch.nn.init.constant(conv1.bias,val=0.1)\n"
     ]
    },
    {
     "data": {
      "text/plain": [
       "Parameter containing:\n",
       "tensor([0.1000, 0.1000, 0.1000, 0.1000, 0.1000, 0.1000, 0.1000, 0.1000, 0.1000,\n",
       "        0.1000, 0.1000, 0.1000, 0.1000, 0.1000, 0.1000, 0.1000],\n",
       "       requires_grad=True)"
      ]
     },
     "execution_count": 9,
     "metadata": {},
     "output_type": "execute_result"
    }
   ],
   "source": [
    "## 使用指定值初始化偏置\n",
    "torch.nn.init.constant(conv1.bias,val=0.1)"
   ]
  },
  {
   "cell_type": "markdown",
   "metadata": {},
   "source": [
    "####  针对一个网络的权重初始化方法\n",
    "\n",
    "定义一个TestNet()网络类为例"
   ]
  },
  {
   "cell_type": "code",
   "execution_count": 10,
   "metadata": {
    "ExecuteTime": {
     "end_time": "2019-11-27T11:35:44.715562Z",
     "start_time": "2019-11-27T11:35:44.695142Z"
    }
   },
   "outputs": [
    {
     "name": "stdout",
     "output_type": "stream",
     "text": [
      "TestNet(\n",
      "  (conv1): Conv2d(3, 16, kernel_size=(3, 3), stride=(1, 1))\n",
      "  (hidden): Sequential(\n",
      "    (0): Linear(in_features=100, out_features=100, bias=True)\n",
      "    (1): ReLU()\n",
      "    (2): Linear(in_features=100, out_features=50, bias=True)\n",
      "    (3): ReLU()\n",
      "  )\n",
      "  (cla): Linear(in_features=50, out_features=10, bias=True)\n",
      ")\n"
     ]
    }
   ],
   "source": [
    "## 建立一个测试网络\n",
    "class TestNet(nn.Module):\n",
    "    def __init__(self):\n",
    "        super(TestNet,self).__init__()\n",
    "        self.conv1 = nn.Conv2d(3,16,3)\n",
    "        self.hidden = nn.Sequential(\n",
    "            nn.Linear(100,100),\n",
    "            nn.ReLU(),\n",
    "            nn.Linear(100,50),\n",
    "            nn.ReLU(),\n",
    "        )\n",
    "        self.cla = nn.Linear(50,10)\n",
    "    ## 定义网络的向前传播路径   \n",
    "    def forward(self, x):\n",
    "        x = self.conv1(x)\n",
    "        x = x.view(x.shape[0],-1)\n",
    "        x = self.hidden(x)\n",
    "        output = self.cla(x)\n",
    "        return output\n",
    "        \n",
    "## 输出我们的网络结构\n",
    "testnet = TestNet()\n",
    "print(testnet)\n"
   ]
  },
  {
   "cell_type": "code",
   "execution_count": 11,
   "metadata": {
    "ExecuteTime": {
     "end_time": "2019-11-27T11:35:56.167993Z",
     "start_time": "2019-11-27T11:35:56.149665Z"
    },
    "scrolled": true
   },
   "outputs": [
    {
     "name": "stderr",
     "output_type": "stream",
     "text": [
      "C:\\Users\\edgar\\AppData\\Local\\Temp\\ipykernel_3096\\2642572792.py:5: UserWarning: nn.init.normal is now deprecated in favor of nn.init.normal_.\n",
      "  torch.nn.init.normal(m.weight,mean=0,std=0.5)\n",
      "C:\\Users\\edgar\\AppData\\Local\\Temp\\ipykernel_3096\\2642572792.py:8: UserWarning: nn.init.uniform is now deprecated in favor of nn.init.uniform_.\n",
      "  torch.nn.init.uniform(m.weight,a=-0.1,b=0.1)\n"
     ]
    },
    {
     "data": {
      "text/plain": [
       "tensor([[-8.1426e-02, -8.6253e-02,  7.1077e-02,  4.0488e-02,  9.2366e-02,\n",
       "          7.0249e-02, -4.4473e-02, -8.0497e-02, -8.0821e-02,  1.0651e-02,\n",
       "          9.6692e-02, -4.2943e-02, -3.7903e-02,  2.9388e-02,  3.5153e-02,\n",
       "          8.5084e-02, -2.7165e-02, -7.8487e-02, -8.7527e-02, -2.8606e-02,\n",
       "         -9.3839e-02, -9.6745e-02,  2.1198e-03,  6.5725e-02,  2.1067e-02,\n",
       "         -7.8905e-02,  2.3045e-02, -3.1271e-02,  4.7324e-02,  8.4716e-02,\n",
       "          1.8341e-02, -1.0031e-02,  1.9340e-02,  7.6852e-02,  4.8772e-02,\n",
       "          4.6029e-03, -9.9761e-02,  4.8784e-02,  8.0059e-02,  5.3519e-02,\n",
       "         -7.5982e-02, -7.4513e-02,  4.6608e-02, -6.0962e-02,  9.1081e-02,\n",
       "         -5.2580e-02, -6.4547e-02,  6.4691e-02, -3.7616e-02,  6.6632e-02],\n",
       "        [ 7.2539e-02,  4.4024e-02, -5.8722e-02, -4.7674e-03, -1.3742e-02,\n",
       "         -2.8310e-02, -7.6522e-02,  7.3045e-02,  5.5755e-02, -3.6266e-02,\n",
       "         -1.5133e-02,  7.6951e-03, -1.6839e-03,  1.8865e-02,  1.6769e-02,\n",
       "         -2.1692e-02, -4.4572e-02,  8.6507e-02, -9.7891e-02, -3.7342e-03,\n",
       "          9.5595e-02, -8.3800e-02,  2.1846e-02, -5.1140e-02,  2.8557e-02,\n",
       "          8.2731e-02, -4.1337e-02, -3.5705e-02, -9.2705e-02, -4.6506e-02,\n",
       "          1.2441e-02,  1.7812e-02, -2.6973e-02,  8.4374e-02,  3.2007e-02,\n",
       "         -4.3930e-02,  9.2021e-02, -9.9126e-02, -6.2767e-02, -5.5336e-02,\n",
       "         -2.5042e-02, -3.1593e-02,  5.5516e-02, -7.0627e-02,  7.3477e-02,\n",
       "         -6.9621e-02, -2.6665e-02, -2.1383e-05,  3.7253e-02, -5.8311e-02],\n",
       "        [-2.3071e-02,  7.4828e-02,  6.0902e-02,  3.0458e-03,  6.1998e-02,\n",
       "          2.1780e-02, -1.2855e-02, -8.0644e-02, -2.8846e-02, -1.0835e-02,\n",
       "         -9.9799e-02,  4.6754e-02,  7.8379e-02, -7.8045e-02, -7.6218e-03,\n",
       "          7.1547e-02, -9.5136e-02, -4.1345e-02,  2.2293e-02,  8.9612e-02,\n",
       "         -7.4861e-02,  7.8305e-02, -1.2993e-03, -6.5283e-02,  3.0857e-02,\n",
       "         -7.0501e-02, -1.5089e-02, -5.7878e-02, -9.3452e-03,  6.4516e-02,\n",
       "          6.9630e-02,  1.1930e-02,  5.7353e-02, -1.0847e-02,  7.1322e-02,\n",
       "         -7.5785e-02, -8.0811e-02, -3.9063e-02, -4.4104e-02,  1.9400e-02,\n",
       "         -8.8611e-02,  5.7732e-02,  4.8346e-02, -2.1186e-02, -5.8491e-02,\n",
       "         -5.8450e-02, -5.8997e-02,  9.9096e-02,  8.6173e-02,  7.1208e-02],\n",
       "        [ 2.3520e-03, -7.7195e-02,  6.1719e-02,  4.5199e-02,  2.0027e-04,\n",
       "          9.3726e-02, -4.2493e-02, -6.9806e-02, -8.9176e-02, -6.6661e-02,\n",
       "          4.8536e-02, -7.8941e-03, -1.0759e-02,  1.7874e-02, -2.7487e-02,\n",
       "         -6.8041e-02,  5.4847e-02, -3.3727e-02,  2.1817e-02, -4.5717e-02,\n",
       "          1.4191e-03,  8.5992e-02,  7.1784e-02, -7.7023e-02, -1.5873e-02,\n",
       "         -9.9172e-02, -2.0460e-03,  9.6494e-02, -5.7010e-02,  2.8660e-02,\n",
       "          3.1942e-02,  2.8532e-02, -2.2981e-02,  4.4600e-02,  9.8303e-02,\n",
       "          1.9616e-02,  2.3411e-02, -5.7598e-02,  6.5545e-02,  9.6408e-02,\n",
       "          4.7053e-02, -8.5412e-02,  4.2051e-02,  7.8047e-02,  9.6107e-02,\n",
       "          2.2601e-02,  6.0450e-02,  4.9529e-02,  1.4429e-02, -3.4280e-02],\n",
       "        [ 9.0737e-03, -5.1617e-02, -9.3013e-02, -9.7489e-02, -4.0300e-02,\n",
       "         -9.5448e-02,  6.6444e-02, -1.8333e-02, -7.2287e-02, -1.7318e-02,\n",
       "          8.8018e-02, -9.7627e-02,  9.9166e-02, -5.1318e-02,  3.7281e-02,\n",
       "          7.6341e-02,  7.2189e-02,  5.8751e-02, -1.9598e-02, -6.7611e-02,\n",
       "          2.3939e-02, -5.3038e-02,  9.7992e-03,  1.7671e-02, -1.5593e-02,\n",
       "          9.0532e-02,  2.2902e-02, -5.4562e-02, -4.6732e-02,  5.1651e-02,\n",
       "         -4.7589e-02, -8.0017e-03, -3.2878e-02, -6.7499e-02,  6.9639e-02,\n",
       "          8.6542e-02, -4.4666e-02,  1.1527e-02,  6.2448e-03, -8.7198e-03,\n",
       "         -4.5915e-02, -2.2441e-02,  4.2298e-02, -6.0133e-02,  3.0483e-02,\n",
       "          4.5962e-02, -7.0202e-02,  2.7890e-02, -6.2478e-02,  4.6576e-02],\n",
       "        [-4.2856e-02,  3.5798e-02,  9.3706e-02, -4.2385e-02, -1.8624e-02,\n",
       "         -5.2889e-02,  1.1834e-02, -5.1677e-02, -8.2967e-02, -1.8862e-02,\n",
       "          1.6114e-02, -3.1068e-02, -7.9023e-02,  1.0971e-02, -7.8157e-02,\n",
       "         -2.0015e-02,  8.7066e-03, -1.9670e-02,  9.9184e-02, -4.5722e-02,\n",
       "         -7.7743e-02,  9.9529e-02,  8.6208e-02, -5.2424e-02,  8.1877e-03,\n",
       "         -7.8353e-02, -8.2944e-02, -8.7495e-02, -8.0676e-02,  5.7477e-02,\n",
       "          7.3250e-03,  3.1655e-02,  5.7486e-02, -1.1106e-02, -4.5221e-02,\n",
       "         -6.4890e-02, -8.3563e-02,  6.5452e-02, -4.4730e-02, -7.9341e-02,\n",
       "          2.3540e-03,  4.2663e-03,  8.9698e-02,  6.1392e-02,  2.5277e-02,\n",
       "          9.2083e-02,  8.4235e-04,  6.4972e-02,  6.4514e-02,  4.2649e-02],\n",
       "        [ 7.0854e-02,  9.1275e-02, -9.4437e-02, -5.3843e-02, -4.0343e-02,\n",
       "          2.8487e-02, -3.6993e-02, -7.8701e-02,  2.1769e-02, -5.1923e-02,\n",
       "          2.9842e-02,  4.2273e-02, -4.1083e-02, -3.0808e-02, -3.5967e-02,\n",
       "         -2.0162e-02,  8.5584e-02,  3.2000e-04, -6.2033e-02, -4.6737e-02,\n",
       "          4.3420e-02,  3.2074e-02,  6.2881e-02, -1.9472e-02,  3.8461e-02,\n",
       "          8.8666e-02, -5.4975e-04,  1.0621e-02, -1.2427e-02,  1.8422e-02,\n",
       "          5.8614e-02, -9.8800e-02,  5.2547e-02, -4.7034e-02, -8.4543e-02,\n",
       "          1.3394e-03, -2.9565e-02, -6.3418e-02,  5.2408e-02,  9.1032e-02,\n",
       "          4.5499e-02, -4.3747e-02, -1.3420e-02,  8.8656e-02, -2.8623e-02,\n",
       "         -9.7665e-02,  7.0704e-02,  2.2224e-02, -7.6994e-03, -1.3613e-02],\n",
       "        [-5.6580e-03, -6.1384e-02, -6.7677e-02,  5.3583e-02,  5.7384e-03,\n",
       "         -7.7487e-02, -1.2481e-02, -5.7703e-02,  6.6492e-03, -7.0380e-02,\n",
       "         -4.4739e-02, -2.8253e-02,  8.8640e-02,  5.0127e-03,  9.4081e-02,\n",
       "          9.4546e-02, -2.2397e-02, -9.5814e-02,  9.1678e-02, -5.1992e-02,\n",
       "          4.4000e-04, -1.4759e-03, -3.5912e-02, -8.8737e-02, -3.3644e-02,\n",
       "         -3.5020e-02, -1.0897e-02,  8.7204e-02,  6.2850e-02,  1.3937e-02,\n",
       "         -1.1176e-02, -1.1225e-02,  9.8463e-02, -1.9399e-02,  5.7870e-02,\n",
       "         -9.0582e-02,  3.8790e-02, -1.7039e-02, -7.5225e-02, -1.5807e-02,\n",
       "          5.3147e-04,  5.2243e-02,  9.7745e-02,  3.2948e-02, -6.1919e-02,\n",
       "         -5.7102e-02,  7.7929e-02,  7.2516e-02,  1.9553e-02, -2.9173e-02],\n",
       "        [-3.8696e-02, -4.0919e-02, -6.4919e-02,  4.6684e-02, -5.8686e-02,\n",
       "         -2.7968e-02, -6.1551e-02,  7.1865e-02, -1.8919e-02,  6.7486e-02,\n",
       "         -9.4628e-02,  7.6169e-02, -5.8413e-02, -8.2950e-02,  4.1923e-02,\n",
       "          9.8090e-02, -2.3363e-02,  9.3446e-03,  4.8996e-02, -8.6145e-02,\n",
       "         -7.9696e-02, -4.3197e-02,  5.9299e-02, -7.4817e-02,  1.3127e-02,\n",
       "         -4.5325e-02,  5.2228e-02, -9.8441e-02,  8.7828e-02, -3.4688e-02,\n",
       "         -1.2129e-02, -8.6624e-02,  6.2899e-02, -2.7080e-02,  2.7676e-02,\n",
       "          1.9257e-02,  1.2262e-02,  1.4027e-02,  2.7087e-03,  8.0542e-04,\n",
       "          9.7512e-02,  3.7358e-02,  6.8961e-02, -2.6814e-02, -7.6668e-02,\n",
       "         -9.5178e-02, -4.1250e-02, -7.1422e-02,  4.4416e-02,  1.1376e-02],\n",
       "        [-6.8850e-02, -6.3988e-02,  2.9004e-03,  7.6598e-02, -6.5259e-02,\n",
       "         -9.9713e-02,  5.6530e-02,  8.3092e-02,  8.7173e-02, -5.6949e-02,\n",
       "         -2.8676e-02,  7.5705e-03,  6.6924e-02,  8.2014e-02,  6.4593e-02,\n",
       "          3.5229e-02, -5.1422e-03,  6.9564e-03, -6.9449e-02,  1.5723e-03,\n",
       "          4.7342e-02, -5.2591e-02,  7.4046e-02, -2.3872e-03,  8.1093e-02,\n",
       "          6.7598e-02,  1.1052e-03, -9.7079e-02,  3.7307e-02, -1.1054e-02,\n",
       "          3.6729e-02, -6.4609e-02, -3.4541e-02,  2.1993e-02, -9.7234e-03,\n",
       "         -1.8296e-02,  6.4819e-02, -3.5355e-02,  2.1192e-02,  1.1787e-02,\n",
       "         -2.8414e-02,  5.4979e-02,  3.7262e-02, -2.8921e-03, -7.2532e-02,\n",
       "         -1.5409e-02, -5.9128e-03, -2.5655e-02,  1.5331e-02, -7.2420e-02]])"
      ]
     },
     "execution_count": 11,
     "metadata": {},
     "output_type": "execute_result"
    }
   ],
   "source": [
    "## 定义为网络中的没个层进行权重初始化的函数\n",
    "def init_weights(m):\n",
    "    ## 如果是卷积层\n",
    "    if type(m) == nn.Conv2d:\n",
    "        torch.nn.init.normal(m.weight,mean=0,std=0.5)\n",
    "    ## 如果是全连接层\n",
    "    if type(m) == nn.Linear:\n",
    "        torch.nn.init.uniform(m.weight,a=-0.1,b=0.1)\n",
    "        m.bias.data.fill_(0.01)\n",
    "        \n",
    "\n",
    "## 使用网络的apply方法进行权重初始化\n",
    "torch.manual_seed(13)  ## 随机数初始化种子\n",
    "testnet.apply(init_weights)\n",
    "testnet.cla.weight.data"
   ]
  },
  {
   "cell_type": "code",
   "execution_count": null,
   "metadata": {},
   "outputs": [],
   "source": []
  },
  {
   "cell_type": "code",
   "execution_count": null,
   "metadata": {},
   "outputs": [],
   "source": []
  },
  {
   "cell_type": "markdown",
   "metadata": {},
   "source": [
    "## 3.6 Pytorch中定义网络的方式\n"
   ]
  },
  {
   "cell_type": "markdown",
   "metadata": {},
   "source": [
    "### 数据准备"
   ]
  },
  {
   "cell_type": "code",
   "execution_count": 12,
   "metadata": {
    "ExecuteTime": {
     "end_time": "2019-11-27T11:36:25.393203Z",
     "start_time": "2019-11-27T11:36:24.762724Z"
    }
   },
   "outputs": [],
   "source": [
    "import torch\n",
    "import torch.nn as nn\n",
    "from torch.optim import SGD\n",
    "import torch.utils.data as Data\n",
    "from sklearn.datasets import load_boston\n",
    "from sklearn.preprocessing import StandardScaler\n",
    "import pandas as pd\n",
    "import numpy as np\n",
    "import matplotlib.pyplot as plt\n"
   ]
  },
  {
   "cell_type": "code",
   "execution_count": 13,
   "metadata": {
    "ExecuteTime": {
     "end_time": "2019-11-27T11:36:27.839803Z",
     "start_time": "2019-11-27T11:36:27.829905Z"
    }
   },
   "outputs": [
    {
     "name": "stdout",
     "output_type": "stream",
     "text": [
      "boston_X.shape: (506, 13)\n"
     ]
    },
    {
     "name": "stderr",
     "output_type": "stream",
     "text": [
      "c:\\software\\lib\\site-packages\\sklearn\\utils\\deprecation.py:87: FutureWarning: Function load_boston is deprecated; `load_boston` is deprecated in 1.0 and will be removed in 1.2.\n",
      "\n",
      "    The Boston housing prices dataset has an ethical problem. You can refer to\n",
      "    the documentation of this function for further details.\n",
      "\n",
      "    The scikit-learn maintainers therefore strongly discourage the use of this\n",
      "    dataset unless the purpose of the code is to study and educate about\n",
      "    ethical issues in data science and machine learning.\n",
      "\n",
      "    In this special case, you can fetch the dataset from the original\n",
      "    source::\n",
      "\n",
      "        import pandas as pd\n",
      "        import numpy as np\n",
      "\n",
      "        data_url = \"http://lib.stat.cmu.edu/datasets/boston\"\n",
      "        raw_df = pd.read_csv(data_url, sep=\"\\s+\", skiprows=22, header=None)\n",
      "        data = np.hstack([raw_df.values[::2, :], raw_df.values[1::2, :2]])\n",
      "        target = raw_df.values[1::2, 2]\n",
      "\n",
      "    Alternative datasets include the California housing dataset (i.e.\n",
      "    :func:`~sklearn.datasets.fetch_california_housing`) and the Ames housing\n",
      "    dataset. You can load the datasets as follows::\n",
      "\n",
      "        from sklearn.datasets import fetch_california_housing\n",
      "        housing = fetch_california_housing()\n",
      "\n",
      "    for the California housing dataset and::\n",
      "\n",
      "        from sklearn.datasets import fetch_openml\n",
      "        housing = fetch_openml(name=\"house_prices\", as_frame=True)\n",
      "\n",
      "    for the Ames housing dataset.\n",
      "  warnings.warn(msg, category=FutureWarning)\n"
     ]
    }
   ],
   "source": [
    "## 读取数据\n",
    "boston_X,boston_y = load_boston(return_X_y=True)\n",
    "print(\"boston_X.shape:\",boston_X.shape)"
   ]
  },
  {
   "cell_type": "code",
   "execution_count": 14,
   "metadata": {
    "ExecuteTime": {
     "end_time": "2019-11-27T11:36:41.948278Z",
     "start_time": "2019-11-27T11:36:41.666655Z"
    }
   },
   "outputs": [
    {
     "data": {
      "image/png": "[encoded data removed]",
      "text/plain": [
       "<Figure size 432x288 with 1 Axes>"
      ]
     },
     "metadata": {
      "image/png": {
       "height": 248,
       "width": 369
      },
      "needs_background": "light"
     },
     "output_type": "display_data"
    }
   ],
   "source": [
    "plt.figure()\n",
    "plt.hist(boston_y,bins=20)\n",
    "plt.show()"
   ]
  },
  {
   "cell_type": "code",
   "execution_count": 15,
   "metadata": {
    "ExecuteTime": {
     "end_time": "2019-11-27T11:36:47.943779Z",
     "start_time": "2019-11-27T11:36:47.936538Z"
    }
   },
   "outputs": [
    {
     "data": {
      "text/plain": [
       "array([1., 1., 1., 1., 1., 1., 1., 1., 1., 1., 1., 1., 1.])"
      ]
     },
     "execution_count": 15,
     "metadata": {},
     "output_type": "execute_result"
    }
   ],
   "source": [
    "## 数据标准化处理\n",
    "ss = StandardScaler(with_mean=True,with_std=True)\n",
    "boston_Xs = ss.fit_transform(boston_X)\n",
    "# boston_ys = ss.fit_transform(boston_y)\n",
    "np.mean(boston_Xs,axis=0)\n",
    "np.std(boston_Xs,axis=0)"
   ]
  },
  {
   "cell_type": "code",
   "execution_count": 16,
   "metadata": {
    "ExecuteTime": {
     "end_time": "2019-11-27T11:36:50.348417Z",
     "start_time": "2019-11-27T11:36:50.337070Z"
    }
   },
   "outputs": [],
   "source": [
    "## 将数据预处理为可以使用pytorch进行批量训练的形式\n",
    "## 训练集X转化为张量\n",
    "train_xt = torch.from_numpy(boston_Xs.astype(np.float32))\n",
    "## 训练集y转化为张量\n",
    "train_yt = torch.from_numpy(boston_y.astype(np.float32))\n",
    "## 将训练集转化为张量后,使用TensorDataset将X和Y整理到一起\n",
    "train_data = Data.TensorDataset(train_xt,train_yt)\n",
    "## 定义一个数据加载器，将训练数据集进行批量处理\n",
    "train_loader = Data.DataLoader(\n",
    "    dataset = train_data, ## 使用的数据集\n",
    "    batch_size=128, # 批处理样本大小\n",
    "    shuffle = True, # 每次迭代前打乱数据\n",
    "    num_workers = 1, # 使用两个进程 \n",
    ")\n",
    "\n",
    "# ##  检查训练数据集的一个batch的样本的维度是否正确\n",
    "# for step, (b_x, b_y) in enumerate(train_loader):  \n",
    "#     if step > 0:\n",
    "#         break\n",
    "# ## 输出训练图像的尺寸和标签的尺寸，都是torch格式的数据\n",
    "# print(b_x.shape)\n",
    "# print(b_y.shape)"
   ]
  },
  {
   "cell_type": "markdown",
   "metadata": {},
   "source": [
    "### 使用继承Module"
   ]
  },
  {
   "cell_type": "code",
   "execution_count": 17,
   "metadata": {
    "ExecuteTime": {
     "end_time": "2019-11-27T11:40:17.668155Z",
     "start_time": "2019-11-27T11:40:17.641398Z"
    }
   },
   "outputs": [
    {
     "name": "stdout",
     "output_type": "stream",
     "text": [
      "MLPmodel(\n",
      "  (hidden1): Linear(in_features=13, out_features=10, bias=True)\n",
      "  (active1): ReLU()\n",
      "  (hidden2): Linear(in_features=10, out_features=10, bias=True)\n",
      "  (active2): ReLU()\n",
      "  (regression): Linear(in_features=10, out_features=1, bias=True)\n",
      ")\n"
     ]
    }
   ],
   "source": [
    "## 使用继承Module的形式定义全连接神经网络\n",
    "class MLPmodel(nn.Module):\n",
    "    def __init__(self):\n",
    "        super(MLPmodel,self).__init__()\n",
    "        ## 定义第一个隐藏层\n",
    "        self.hidden1 = nn.Linear(\n",
    "            in_features = 13, ## 第一个隐藏层的输入，数据的特征数\n",
    "            out_features = 10,## 第一个隐藏层的输出，神经元的数量\n",
    "            bias=True, ## 默认会有偏置\n",
    "        )\n",
    "        self.active1 = nn.ReLU()\n",
    "        ## 定义第一个隐藏层\n",
    "        self.hidden2 = nn.Linear(10,10)\n",
    "        self.active2 = nn.ReLU()\n",
    "        ## 定义预测回归层\n",
    "        self.regression = nn.Linear(10,1)\n",
    "\n",
    "    ## 定义网络的向前传播路径   \n",
    "    def forward(self, x):\n",
    "        x = self.hidden1(x)\n",
    "        x = self.active1(x)\n",
    "        x = self.hidden2(x)\n",
    "        x = self.active2(x)\n",
    "        output = self.regression(x)\n",
    "        ## 输出为output\n",
    "        return output\n",
    "        \n",
    "## 输出我们的网络结构\n",
    "mlp1 = MLPmodel()\n",
    "print(mlp1)"
   ]
  },
  {
   "cell_type": "code",
   "execution_count": 18,
   "metadata": {
    "ExecuteTime": {
     "end_time": "2019-11-27T11:40:19.599857Z",
     "start_time": "2019-11-27T11:40:18.529123Z"
    }
   },
   "outputs": [],
   "source": [
    "## 对回归模型mlp1进行训练并输出损失函数的变化情况\n",
    "# 定义优化器和损失函数\n",
    "optimizer = SGD(mlp1.parameters(),lr=0.001)  \n",
    "loss_func = nn.MSELoss()  # 最小平方根误差\n",
    "train_loss_all = [] ## 输出每个批次训练的损失函数\n",
    "## 进行训练，并输出每次迭代的损失函数\n",
    "for epoch in range(30):\n",
    "    ## 对训练数据的迭代器进行迭代计算\n",
    "    for step, (b_x, b_y) in enumerate(train_loader):  \n",
    "        output = mlp1(b_x).flatten()      # MLP在训练batch上的输出\n",
    "        train_loss = loss_func(output,b_y) # 平方根误差\n",
    "        optimizer.zero_grad()           # 每个迭代步的梯度初始化为0\n",
    "        train_loss.backward()           # 损失的后向传播，计算梯度\n",
    "        optimizer.step()                # 使用梯度进行优化\n",
    "        train_loss_all.append(train_loss.item())"
   ]
  },
  {
   "cell_type": "code",
   "execution_count": 19,
   "metadata": {
    "ExecuteTime": {
     "end_time": "2019-11-27T11:40:20.720396Z",
     "start_time": "2019-11-27T11:40:20.448857Z"
    }
   },
   "outputs": [
    {
     "data": {
      "image/png": "[encoded data removed]",
      "text/plain": [
       "<Figure size 432x288 with 1 Axes>"
      ]
     },
     "metadata": {
      "image/png": {
       "height": 263,
       "width": 375
      },
      "needs_background": "light"
     },
     "output_type": "display_data"
    }
   ],
   "source": [
    "plt.figure()\n",
    "plt.plot(train_loss_all,\"r-\")\n",
    "plt.title(\"Train loss per iteration\")\n",
    "plt.show()"
   ]
  },
  {
   "cell_type": "markdown",
   "metadata": {},
   "source": [
    "### 使用nn.Sequential"
   ]
  },
  {
   "cell_type": "code",
   "execution_count": 20,
   "metadata": {
    "ExecuteTime": {
     "end_time": "2019-11-27T11:42:06.871609Z",
     "start_time": "2019-11-27T11:42:06.855023Z"
    }
   },
   "outputs": [
    {
     "name": "stdout",
     "output_type": "stream",
     "text": [
      "MLPmodel2(\n",
      "  (hidden): Sequential(\n",
      "    (0): Linear(in_features=13, out_features=10, bias=True)\n",
      "    (1): ReLU()\n",
      "    (2): Linear(in_features=10, out_features=10, bias=True)\n",
      "    (3): ReLU()\n",
      "  )\n",
      "  (regression): Linear(in_features=10, out_features=1, bias=True)\n",
      ")\n"
     ]
    }
   ],
   "source": [
    "## 使用定义网络时使用nn.Sequential的形式\n",
    "class MLPmodel2(nn.Module):\n",
    "    def __init__(self):\n",
    "        super(MLPmodel2,self).__init__()\n",
    "        ## 定义隐藏层\n",
    "        self.hidden = nn.Sequential(\n",
    "            nn.Linear(13, 10),\n",
    "            nn.ReLU(),\n",
    "            nn.Linear(10,10),\n",
    "            nn.ReLU(),\n",
    "        )\n",
    "        ## 预测回归层\n",
    "        self.regression = nn.Linear(10,1)\n",
    "\n",
    "    ## 定义网络的向前传播路径   \n",
    "    def forward(self, x):\n",
    "        x = self.hidden(x)\n",
    "        output = self.regression(x)\n",
    "        return output\n",
    "        \n",
    "## 输出我们的网络结构\n",
    "mlp2 = MLPmodel2()\n",
    "print(mlp2)"
   ]
  },
  {
   "cell_type": "code",
   "execution_count": 26,
   "metadata": {
    "ExecuteTime": {
     "end_time": "2019-11-27T11:42:08.797789Z",
     "start_time": "2019-11-27T11:42:07.720176Z"
    }
   },
   "outputs": [],
   "source": [
    "## 对回归模型mlp2进行训练并输出损失函数的变化情况\n",
    "# 定义优化器和损失函数\n",
    "optimizer = SGD(mlp2.parameters(),lr=0.001)  \n",
    "loss_func = nn.MSELoss()  # 最小平方根误差\n",
    "train_loss_all = [] ## 输出每个批次训练的损失函数\n",
    "## 进行训练，并输出每次迭代的损失函数\n",
    "for epoch in range(30):\n",
    "    ## 对训练数据的迭代器进行迭代计算\n",
    "    for step, (b_x, b_y) in enumerate(train_loader):  \n",
    "        output = mlp2(b_x).flatten()               # MLP在训练batch上的输出\n",
    "        train_loss = loss_func(output,b_y) # 平方根误差\n",
    "        optimizer.zero_grad()           # 每个迭代步的梯度初始化为0\n",
    "        train_loss.backward()           # 损失的后向传播，计算梯度\n",
    "        optimizer.step()                # 使用梯度进行优化\n",
    "        train_loss_all.append(train_loss.item())"
   ]
  },
  {
   "cell_type": "code",
   "execution_count": 27,
   "metadata": {
    "ExecuteTime": {
     "end_time": "2019-11-27T11:42:09.217486Z",
     "start_time": "2019-11-27T11:42:08.911096Z"
    }
   },
   "outputs": [
    {
     "data": {
      "image/png": "[encoded data removed]",
      "text/plain": [
       "<Figure size 432x288 with 1 Axes>"
      ]
     },
     "metadata": {
      "image/png": {
       "height": 263,
       "width": 378
      },
      "needs_background": "light"
     },
     "output_type": "display_data"
    }
   ],
   "source": [
    "plt.figure()\n",
    "plt.plot(train_loss_all,\"r-\")\n",
    "plt.title(\"Train loss per iteration\")\n",
    "plt.show()"
   ]
  },
  {
   "cell_type": "markdown",
   "metadata": {},
   "source": [
    "## Pytorch模型保存和加载方法"
   ]
  },
  {
   "cell_type": "markdown",
   "metadata": {},
   "source": [
    "### 方法1:保存整个模型"
   ]
  },
  {
   "cell_type": "code",
   "execution_count": 23,
   "metadata": {
    "ExecuteTime": {
     "end_time": "2019-11-27T11:43:41.294653Z",
     "start_time": "2019-11-27T11:43:41.285189Z"
    }
   },
   "outputs": [
    {
     "ename": "FileNotFoundError",
     "evalue": "[Errno 2] No such file or directory: 'data/chap3/mlp2.pkl'",
     "output_type": "error",
     "traceback": [
      "\u001b[1;31m---------------------------------------------------------------------------\u001b[0m",
      "\u001b[1;31mFileNotFoundError\u001b[0m                         Traceback (most recent call last)",
      "\u001b[1;32md:\\BaiduNetdiskDownload\\请用电脑客户端勾选本文件夹整体下载！PyTorch深度学习入门与实战【配套资源】\\Pytorch深度学习入门程序(无数据)\\第三章 Pytorch深度神经网络及训练.ipynb Cell 35'\u001b[0m in \u001b[0;36m<cell line: 2>\u001b[1;34m()\u001b[0m\n\u001b[0;32m      <a href='vscode-notebook-cell:/d%3A/BaiduNetdiskDownload/%E8%AF%B7%E7%94%A8%E7%94%B5%E8%84%91%E5%AE%A2%E6%88%B7%E7%AB%AF%E5%8B%BE%E9%80%89%E6%9C%AC%E6%96%87%E4%BB%B6%E5%A4%B9%E6%95%B4%E4%BD%93%E4%B8%8B%E8%BD%BD%EF%BC%81PyTorch%E6%B7%B1%E5%BA%A6%E5%AD%A6%E4%B9%A0%E5%85%A5%E9%97%A8%E4%B8%8E%E5%AE%9E%E6%88%98%E3%80%90%E9%85%8D%E5%A5%97%E8%B5%84%E6%BA%90%E3%80%91/Pytorch%E6%B7%B1%E5%BA%A6%E5%AD%A6%E4%B9%A0%E5%85%A5%E9%97%A8%E7%A8%8B%E5%BA%8F%28%E6%97%A0%E6%95%B0%E6%8D%AE%29/%E7%AC%AC%E4%B8%89%E7%AB%A0%20Pytorch%E6%B7%B1%E5%BA%A6%E7%A5%9E%E7%BB%8F%E7%BD%91%E7%BB%9C%E5%8F%8A%E8%AE%AD%E7%BB%83.ipynb#ch0000034?line=0'>1</a>\u001b[0m \u001b[39m## 保存整个模型\u001b[39;00m\n\u001b[1;32m----> <a href='vscode-notebook-cell:/d%3A/BaiduNetdiskDownload/%E8%AF%B7%E7%94%A8%E7%94%B5%E8%84%91%E5%AE%A2%E6%88%B7%E7%AB%AF%E5%8B%BE%E9%80%89%E6%9C%AC%E6%96%87%E4%BB%B6%E5%A4%B9%E6%95%B4%E4%BD%93%E4%B8%8B%E8%BD%BD%EF%BC%81PyTorch%E6%B7%B1%E5%BA%A6%E5%AD%A6%E4%B9%A0%E5%85%A5%E9%97%A8%E4%B8%8E%E5%AE%9E%E6%88%98%E3%80%90%E9%85%8D%E5%A5%97%E8%B5%84%E6%BA%90%E3%80%91/Pytorch%E6%B7%B1%E5%BA%A6%E5%AD%A6%E4%B9%A0%E5%85%A5%E9%97%A8%E7%A8%8B%E5%BA%8F%28%E6%97%A0%E6%95%B0%E6%8D%AE%29/%E7%AC%AC%E4%B8%89%E7%AB%A0%20Pytorch%E6%B7%B1%E5%BA%A6%E7%A5%9E%E7%BB%8F%E7%BD%91%E7%BB%9C%E5%8F%8A%E8%AE%AD%E7%BB%83.ipynb#ch0000034?line=1'>2</a>\u001b[0m torch\u001b[39m.\u001b[39;49msave(mlp2,\u001b[39m\"\u001b[39;49m\u001b[39mdata/chap3/mlp2.pkl\u001b[39;49m\u001b[39m\"\u001b[39;49m)\n",
      "File \u001b[1;32mc:\\software\\lib\\site-packages\\torch\\serialization.py:376\u001b[0m, in \u001b[0;36msave\u001b[1;34m(obj, f, pickle_module, pickle_protocol, _use_new_zipfile_serialization)\u001b[0m\n\u001b[0;32m    340\u001b[0m \u001b[39m\"\"\"save(obj, f, pickle_module=pickle, pickle_protocol=DEFAULT_PROTOCOL, _use_new_zipfile_serialization=True)\u001b[39;00m\n\u001b[0;32m    341\u001b[0m \n\u001b[0;32m    342\u001b[0m \u001b[39mSaves an object to a disk file.\u001b[39;00m\n\u001b[1;32m   (...)\u001b[0m\n\u001b[0;32m    372\u001b[0m \u001b[39m    >>> torch.save(x, buffer)\u001b[39;00m\n\u001b[0;32m    373\u001b[0m \u001b[39m\"\"\"\u001b[39;00m\n\u001b[0;32m    374\u001b[0m _check_dill_version(pickle_module)\n\u001b[1;32m--> 376\u001b[0m \u001b[39mwith\u001b[39;00m _open_file_like(f, \u001b[39m'\u001b[39;49m\u001b[39mwb\u001b[39;49m\u001b[39m'\u001b[39;49m) \u001b[39mas\u001b[39;00m opened_file:\n\u001b[0;32m    377\u001b[0m     \u001b[39mif\u001b[39;00m _use_new_zipfile_serialization:\n\u001b[0;32m    378\u001b[0m         \u001b[39mwith\u001b[39;00m _open_zipfile_writer(opened_file) \u001b[39mas\u001b[39;00m opened_zipfile:\n",
      "File \u001b[1;32mc:\\software\\lib\\site-packages\\torch\\serialization.py:230\u001b[0m, in \u001b[0;36m_open_file_like\u001b[1;34m(name_or_buffer, mode)\u001b[0m\n\u001b[0;32m    228\u001b[0m \u001b[39mdef\u001b[39;00m \u001b[39m_open_file_like\u001b[39m(name_or_buffer, mode):\n\u001b[0;32m    229\u001b[0m     \u001b[39mif\u001b[39;00m _is_path(name_or_buffer):\n\u001b[1;32m--> 230\u001b[0m         \u001b[39mreturn\u001b[39;00m _open_file(name_or_buffer, mode)\n\u001b[0;32m    231\u001b[0m     \u001b[39melse\u001b[39;00m:\n\u001b[0;32m    232\u001b[0m         \u001b[39mif\u001b[39;00m \u001b[39m'\u001b[39m\u001b[39mw\u001b[39m\u001b[39m'\u001b[39m \u001b[39min\u001b[39;00m mode:\n",
      "File \u001b[1;32mc:\\software\\lib\\site-packages\\torch\\serialization.py:211\u001b[0m, in \u001b[0;36m_open_file.__init__\u001b[1;34m(self, name, mode)\u001b[0m\n\u001b[0;32m    210\u001b[0m \u001b[39mdef\u001b[39;00m \u001b[39m__init__\u001b[39m(\u001b[39mself\u001b[39m, name, mode):\n\u001b[1;32m--> 211\u001b[0m     \u001b[39msuper\u001b[39m(_open_file, \u001b[39mself\u001b[39m)\u001b[39m.\u001b[39m\u001b[39m__init__\u001b[39m(\u001b[39mopen\u001b[39;49m(name, mode))\n",
      "\u001b[1;31mFileNotFoundError\u001b[0m: [Errno 2] No such file or directory: 'data/chap3/mlp2.pkl'"
     ]
    }
   ],
   "source": [
    "## 保存整个模型\n",
    "torch.save(mlp2,\"data/chap3/mlp2.pkl\")"
   ]
  },
  {
   "cell_type": "code",
   "execution_count": null,
   "metadata": {
    "ExecuteTime": {
     "end_time": "2019-11-27T11:42:57.177345Z",
     "start_time": "2019-11-27T11:42:57.171417Z"
    }
   },
   "outputs": [
    {
     "data": {
      "text/plain": [
       "MLPmodel2(\n",
       "  (hidden): Sequential(\n",
       "    (0): Linear(in_features=13, out_features=10, bias=True)\n",
       "    (1): ReLU()\n",
       "    (2): Linear(in_features=10, out_features=10, bias=True)\n",
       "    (3): ReLU()\n",
       "  )\n",
       "  (regression): Linear(in_features=10, out_features=1, bias=True)\n",
       ")"
      ]
     },
     "execution_count": 36,
     "metadata": {},
     "output_type": "execute_result"
    }
   ],
   "source": [
    "## 导入保存的模型\n",
    "mlp2load = torch.load(\"data/chap3/mlp2.pkl\")\n",
    "mlp2load"
   ]
  },
  {
   "cell_type": "markdown",
   "metadata": {},
   "source": [
    "### 方法2:只保存模型的参数"
   ]
  },
  {
   "cell_type": "code",
   "execution_count": null,
   "metadata": {
    "ExecuteTime": {
     "end_time": "2019-11-27T11:43:28.662931Z",
     "start_time": "2019-11-27T11:43:28.659466Z"
    }
   },
   "outputs": [],
   "source": [
    "torch.save(mlp2.state_dict(),\"data/chap3/mlp2_param.pkl\")"
   ]
  },
  {
   "cell_type": "code",
   "execution_count": null,
   "metadata": {
    "ExecuteTime": {
     "end_time": "2019-11-27T11:43:34.951591Z",
     "start_time": "2019-11-27T11:43:34.941977Z"
    }
   },
   "outputs": [
    {
     "data": {
      "text/plain": [
       "OrderedDict([('hidden.0.weight',\n",
       "              tensor([[-0.2822,  0.1334,  0.0388,  0.1440,  0.2618,  0.4390,  0.2546, -0.2445,\n",
       "                       -0.0117,  0.2910, -0.1035, -0.0712, -0.2328],\n",
       "                      [-0.2626,  0.2081,  0.1885, -0.1894, -0.1423, -0.0254,  0.1633, -0.0399,\n",
       "                        0.1291, -0.1579, -0.3264, -0.2108,  0.2222],\n",
       "                      [-0.0472, -0.2940,  0.3935,  0.3286, -0.3327, -0.1558, -0.0870, -0.0583,\n",
       "                        0.1240,  0.0577,  0.0137,  0.0661, -0.4534],\n",
       "                      [-0.2986, -0.2876,  0.0924, -0.1612,  0.0596,  0.0798,  0.0854, -0.0612,\n",
       "                        0.1263,  0.1125,  0.2076, -0.1917, -0.1338],\n",
       "                      [-0.0387, -0.2553, -0.2541,  0.1680,  0.1431, -0.0731,  0.0550, -0.0643,\n",
       "                        0.2325, -0.2246, -0.0173,  0.0460,  0.0388],\n",
       "                      [ 0.0909, -0.0387,  0.2761, -0.1015, -0.1025, -0.1738,  0.2652, -0.1256,\n",
       "                       -0.0439, -0.0241,  0.1340, -0.1630,  0.0169],\n",
       "                      [-0.4561, -0.1263, -0.3124, -0.0841, -0.1610,  0.7872,  0.1491, -0.3387,\n",
       "                       -0.3650, -0.1686, -0.3480,  0.0381, -0.2165],\n",
       "                      [-0.3376, -0.0499, -0.4452, -0.1622, -0.2486,  0.2633, -0.2929, -0.0633,\n",
       "                       -0.3611, -0.4952,  0.0711,  0.1705, -0.2545],\n",
       "                      [-0.2424,  0.1398, -0.0955,  0.3097, -0.2879,  0.5581, -0.2190,  0.1547,\n",
       "                        0.1518, -0.0404, -0.3514, -0.1028,  0.0311],\n",
       "                      [-0.0932, -0.3147,  0.5427,  0.2102,  0.3488, -0.1310, -0.0507, -0.2672,\n",
       "                        0.3902,  0.1808,  0.1756,  0.2287, -0.0419]])),\n",
       "             ('hidden.0.bias',\n",
       "              tensor([ 0.0654, -0.0964,  0.6762,  0.1036, -0.2672, -0.2773,  1.1591,  0.5238,\n",
       "                       0.0840,  0.3189])),\n",
       "             ('hidden.2.weight',\n",
       "              tensor([[-0.0093,  0.2743, -0.1731, -0.0974,  0.2411,  0.0051, -0.1101,  0.3063,\n",
       "                       -0.2759,  0.1402],\n",
       "                      [ 0.2665,  0.1339,  0.8301,  0.2845,  0.0867, -0.2210,  1.3054,  0.7054,\n",
       "                        0.4331,  0.5690],\n",
       "                      [ 0.2864, -0.2054,  0.4418,  0.1416, -0.0617,  0.1232,  0.3957,  0.4837,\n",
       "                        0.2672,  0.4965],\n",
       "                      [ 0.4316,  0.3174,  0.1035, -0.0460, -0.2148,  0.1935,  0.8345,  0.5858,\n",
       "                        0.3457,  0.5517],\n",
       "                      [ 0.0974,  0.2564, -0.1416,  0.1115,  0.1993,  0.1312, -0.0553,  0.0310,\n",
       "                        0.1544, -0.1582],\n",
       "                      [-0.2394,  0.1236,  0.1727, -0.0029, -0.1840, -0.1539,  0.2149, -0.2171,\n",
       "                       -0.3127, -0.0970],\n",
       "                      [ 0.2245,  0.2840, -0.0907, -0.0685,  0.1137, -0.2069, -0.2048, -0.1867,\n",
       "                        0.2344, -0.0993],\n",
       "                      [ 0.0181, -0.1438, -0.0897, -0.2076, -0.1411,  0.3210, -0.1275, -0.1127,\n",
       "                       -0.2762,  0.3406],\n",
       "                      [-0.2458,  0.0432, -0.1068, -0.2638, -0.2253,  0.1097, -0.1858,  0.0165,\n",
       "                       -0.1586, -0.1642],\n",
       "                      [-0.2778, -0.1298,  0.1195, -0.2121,  0.2338,  0.2894, -0.3180, -0.1468,\n",
       "                       -0.1291,  0.0622]])),\n",
       "             ('hidden.2.bias',\n",
       "              tensor([-0.1146,  1.2271,  0.2520,  0.9938, -0.1662, -0.1291, -0.0603, -0.1661,\n",
       "                      -0.1716,  0.1864])),\n",
       "             ('regression.weight',\n",
       "              tensor([[-0.0116,  2.2035,  0.9288,  1.5197, -0.1200, -0.2914, -0.1424,  0.1058,\n",
       "                        0.2165,  0.0165]])),\n",
       "             ('regression.bias', tensor([2.0334]))])"
      ]
     },
     "execution_count": 38,
     "metadata": {},
     "output_type": "execute_result"
    }
   ],
   "source": [
    "## 导入保存的模型的参数\n",
    "mlp2param = torch.load(\"data/chap3/mlp2_param.pkl\")\n",
    "mlp2param"
   ]
  },
  {
   "cell_type": "code",
   "execution_count": null,
   "metadata": {},
   "outputs": [],
   "source": []
  }
 ],
 "metadata": {
  "hide_input": false,
  "kernelspec": {
   "display_name": "Python 3.8.7 64-bit",
   "language": "python",
   "name": "python3"
  },
  "language_info": {
   "codemirror_mode": {
    "name": "ipython",
    "version": 3
   },
   "file_extension": ".py",
   "mimetype": "text/x-python",
   "name": "python",
   "nbconvert_exporter": "python",
   "pygments_lexer": "ipython3",
   "version": "3.8.7"
  },
  "nbTranslate": {
   "displayLangs": [
    "*"
   ],
   "hotkey": "alt-t",
   "langInMainMenu": true,
   "sourceLang": "en",
   "targetLang": "fr",
   "useGoogleTranslate": true
  },
  "varInspector": {
   "cols": {
    "lenName": 16,
    "lenType": 16,
    "lenVar": 40
   },
   "kernels_config": {
    "python": {
     "delete_cmd_postfix": "",
     "delete_cmd_prefix": "del ",
     "library": "var_list.py",
     "varRefreshCmd": "print(var_dic_list())"
    },
    "r": {
     "delete_cmd_postfix": ") ",
     "delete_cmd_prefix": "rm(",
     "library": "var_list.r",
     "varRefreshCmd": "cat(var_dic_list()) "
    }
   },
   "types_to_exclude": [
    "module",
    "function",
    "builtin_function_or_method",
    "instance",
    "_Feature"
   ],
   "window_display": false
  },
  "vscode": {
   "interpreter": {
    "hash": "bfa0feef82d63fcbc8a3fe2fbb76c81f584951cc4bd84f2e5de3225fe1cd89e7"
   }
  }
 },
 "nbformat": 4,
 "nbformat_minor": 2
}
